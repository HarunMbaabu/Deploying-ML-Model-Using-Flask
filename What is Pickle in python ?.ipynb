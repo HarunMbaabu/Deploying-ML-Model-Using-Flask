{
 "cells": [
  {
   "cell_type": "markdown",
   "metadata": {},
   "source": [
    "### **What is Pickle in python ?**"
   ]
  },
  {
   "cell_type": "markdown",
   "metadata": {},
   "source": [
    "It is used for serializing and de-serializing a Python object structure."
   ]
  },
  {
   "cell_type": "markdown",
   "metadata": {},
   "source": [
    "**Pickling:** It is a process where a Python object hierarchy is converted into a byte stream and dumps it into a file by using dump function.This character stream contains all the information necessary to reconstruct the object in another python script."
   ]
  },
  {
   "cell_type": "markdown",
   "metadata": {},
   "source": [
    "**Unpickling**: It is the inverse of Pickling process where a byte stream is converted into an object hierarchy.While the process of retrieving original Python objects from the stored string representation is called unpickling.we use load function to do this."
   ]
  },
  {
   "cell_type": "markdown",
   "metadata": {},
   "source": [
    "**First of all you have to import pickle module through this command:***"
   ]
  },
  {
   "cell_type": "markdown",
   "metadata": {},
   "source": [
    "```python\n",
    "import pickle\n",
    "```"
   ]
  },
  {
   "cell_type": "markdown",
   "metadata": {},
   "source": [
    "Pickle has two main methods. The first one is **dump**, which dumps an object to a file object and the second one is **load**, which loads an object from a file object."
   ]
  },
  {
   "cell_type": "markdown",
   "metadata": {},
   "source": [
    "### **Examples**\n",
    "\n",
    "**1). Pickling.**"
   ]
  },
  {
   "cell_type": "code",
   "execution_count": 8,
   "metadata": {},
   "outputs": [],
   "source": [
    "import pickle\n",
    "\n",
    "a=[1, 2, 3, 4, 5, 6, 7]\n",
    "\n",
    "# open the file for writing\n",
    "pic_out = open(\"mypicklefile\", \"wb\")\n",
    "\n",
    "#write object to file mypicklefile\n",
    "pickle.dump(a, pic_out)\n",
    "\n",
    "pic_out.close()"
   ]
  },
  {
   "cell_type": "markdown",
   "metadata": {},
   "source": [
    "**2). Unpickling.**"
   ]
  },
  {
   "cell_type": "code",
   "execution_count": 10,
   "metadata": {},
   "outputs": [
    {
     "data": {
      "text/plain": [
       "[1, 2, 3, 4, 5, 6, 7]"
      ]
     },
     "execution_count": 10,
     "metadata": {},
     "output_type": "execute_result"
    }
   ],
   "source": [
    "import pickle\n",
    "# open the file for reading\n",
    "pic_in = open(\"mypicklefile\",  \"rb\")\n",
    "\n",
    "# load the object from the file into var a\n",
    "a = pickle.load(pic_in) \n",
    "\n",
    "a\n"
   ]
  },
  {
   "cell_type": "markdown",
   "metadata": {},
   "source": [
    "**Use cases of Pickling:**\n",
    "\n",
    "- saving a program’s state data to disk so that it can carry on where it left off when restarted (persistence)\n",
    "- sending python data over a TCP connection in a multi-core or distributed system (marshalling)\n",
    "- storing python objects in a database\n",
    "- converting an arbitrary python object to a string so that it can be used as a dictionary key (e.g. for caching & memoization)."
   ]
  },
  {
   "cell_type": "code",
   "execution_count": 6,
   "metadata": {},
   "outputs": [],
   "source": []
  }
 ],
 "metadata": {
  "kernelspec": {
   "display_name": "Python 3",
   "language": "python",
   "name": "python3"
  },
  "language_info": {
   "codemirror_mode": {
    "name": "ipython",
    "version": 3
   },
   "file_extension": ".py",
   "mimetype": "text/x-python",
   "name": "python",
   "nbconvert_exporter": "python",
   "pygments_lexer": "ipython3",
   "version": "3.7.3"
  }
 },
 "nbformat": 4,
 "nbformat_minor": 2
}
